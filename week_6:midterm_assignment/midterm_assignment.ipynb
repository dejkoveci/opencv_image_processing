{
 "cells": [
  {
   "cell_type": "code",
   "execution_count": null,
   "id": "bbbd5ae5",
   "metadata": {},
   "outputs": [],
   "source": [
    "#Gamma Donusumu"
   ]
  },
  {
   "cell_type": "code",
   "execution_count": null,
   "id": "f792e169",
   "metadata": {},
   "outputs": [],
   "source": [
    "#Logaritmik Donusum"
   ]
  },
  {
   "cell_type": "code",
   "execution_count": null,
   "id": "e17e566d",
   "metadata": {},
   "outputs": [],
   "source": [
    "#Negatifini Alma"
   ]
  },
  {
   "cell_type": "code",
   "execution_count": null,
   "id": "d88e9819",
   "metadata": {},
   "outputs": [],
   "source": [
    "#Uzerinde metin olan resmin yazilarini netlestirme"
   ]
  },
  {
   "cell_type": "code",
   "execution_count": null,
   "id": "a77db46a",
   "metadata": {},
   "outputs": [],
   "source": [
    "#Gri olcekli resmi 8,16,24 bite cevir "
   ]
  },
  {
   "cell_type": "code",
   "execution_count": null,
   "id": "8fbc44ee",
   "metadata": {},
   "outputs": [],
   "source": [
    "#Sobel - Prewitt - Robert cross filtreleme"
   ]
  },
  {
   "cell_type": "code",
   "execution_count": null,
   "id": "ceb6a08d",
   "metadata": {},
   "outputs": [],
   "source": [
    "#Tuz biber goruntu olusturma ve histogram cikarma"
   ]
  }
 ],
 "metadata": {
  "kernelspec": {
   "display_name": "Python 3 (ipykernel)",
   "language": "python",
   "name": "python3"
  },
  "language_info": {
   "codemirror_mode": {
    "name": "ipython",
    "version": 3
   },
   "file_extension": ".py",
   "mimetype": "text/x-python",
   "name": "python",
   "nbconvert_exporter": "python",
   "pygments_lexer": "ipython3",
   "version": "3.10.8"
  }
 },
 "nbformat": 4,
 "nbformat_minor": 5
}
